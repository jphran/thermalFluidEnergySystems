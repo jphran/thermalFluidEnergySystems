{
 "cells": [
  {
   "cell_type": "code",
   "execution_count": 370,
   "metadata": {},
   "outputs": [
    {
     "name": "stdout",
     "output_type": "stream",
     "text": [
      "1.0539396656158917\n",
      "[87590.10611429 87590.14548008 87589.31609121 87587.35410837\n",
      " 87584.90971432 87580.85978646 87576.97032192 87571.49560091\n",
      " 87566.32134697 87561.32438556 87556.2042496  87551.22045153\n",
      " 87547.47142568 87544.65116623 87543.32536007 87543.63533351\n",
      " 87545.46431598 87547.2775436  87548.58187831 87549.41253647\n",
      " 87549.45387277 87549.36643367 87549.47447435 87549.3209167 ]\n",
      "[41.12988571 41.09051992 41.91990879 43.88189163 46.32628568 50.37621354\n",
      " 54.26567808 59.74039909 64.91465303 69.91161444 75.0317504  80.01554847\n",
      " 83.76457432 86.58483377 87.91063993 87.60066649 85.77168402 83.9584564\n",
      " 82.65412169 81.82346353 81.78212723 81.86956633 81.76152565 81.9150833 ]\n"
     ]
    }
   ],
   "source": [
    "import numpy as np\n",
    "import matplotlib.pyplot as plt\n",
    "%matplotlib inline\n",
    "\n",
    "R_air = 287.058 #J/kgK\n",
    "T_rm = 16.5 + 273.15 #K\n",
    "P_rm = 657.3 * mmHg_to_Pa #Pa\n",
    "rho = P_rm/(R_air*T_rm) #kg/m3 of air\n",
    "print(rho)\n",
    "    \n",
    "# Pressure data processing\n",
    "theta = np.concatenate((np.arange(0,95,5), np.arange(100,200,20)))\n",
    "\n",
    "Pmean = np.empty(len(theta)) #\n",
    "Pstd = np.empty(len(theta))\n",
    "Pstd_bar = np.empty(len(theta))\n",
    "Pcyl = np.empty(len(theta))\n",
    "\n",
    "for i in range(len(theta)):\n",
    "    fileName = './Data/Pcyl_deg' + str(theta[i])\n",
    "    data = np.loadtxt(fileName)\n",
    "    Pmean[i] = np.mean(data) * mmHg_to_Pa\n",
    "    Pstd[i] = np.mean(data) * mmHg_to_Pa\n",
    "    Pstd_bar[i] = Pstd[i]/(np.sqrt(len(data)))\n",
    "    Pcyl[i] = P_rm - Pmean[i]\n",
    "\n",
    "print(Pcyl)\n",
    "print(Pmean)\n",
    "theta = theta * (np.pi/180)\n"
   ]
  },
  {
   "cell_type": "code",
   "execution_count": 371,
   "metadata": {},
   "outputs": [
    {
     "name": "stdout",
     "output_type": "stream",
     "text": [
      "[87610.11086017 87610.08108952 87609.99752042 87609.76219553\n",
      " 87609.48912031]\n"
     ]
    }
   ],
   "source": [
    "# Freestream data processing\n",
    "yD_free = np.arange(0,5,1)\n",
    "uMean_free = np.empty(len(yD_free)) #m/s\n",
    "std_u_free = np.empty(len(yD_free))\n",
    "Pinf = np.empty(len(yD_free))\n",
    "mmHg_to_Pa = 133.32 #conversion factor \n",
    "\n",
    "for i in range(len(yD_free)):\n",
    "    fileName = './Data/Uinf_yD' + str(yD_free[i])\n",
    "    data = np.loadtxt(fileName)\n",
    "    uMean_free[i] = np.mean(data) * mmHg_to_Pa\n",
    "    std_u_free[i] = (np.std(data) * mmHg_to_Pa)/np.sqrt(len(data))\n",
    "    Pinf[i] = P_rm - (np.mean(data) * mmHg_to_Pa)\n",
    "\n",
    "def convert_PtoU(x):\n",
    "    R_air = 287.058 #J/kgK\n",
    "    T_rm = 16.5 + 273.15 #K\n",
    "    P_rm = 657.3 * mmHg_to_Pa #Pa\n",
    "    rho = P_rm/(R_air*T_rm) #kg/m3 of air\n",
    "    \n",
    "    for i in range(len(x)):\n",
    "        x[i] = np.sqrt((2*x[i])/rho)\n",
    "        \n",
    "    return x\n",
    "\n",
    "# print(uMean_free)\n",
    "uMean_free = convert_PtoU(uMean_free)\n",
    "std_u_free = convert_PtoU(std_u_free)\n",
    "# print(uMean_free)\n",
    "# print(std_u_free)\n",
    "print(Pinf)\n",
    "Uinf = np.mean(uMean_free)"
   ]
  },
  {
   "cell_type": "code",
   "execution_count": null,
   "metadata": {},
   "outputs": [],
   "source": []
  },
  {
   "cell_type": "code",
   "execution_count": 372,
   "metadata": {},
   "outputs": [
    {
     "name": "stdout",
     "output_type": "stream",
     "text": [
      "[87616.80050628 87616.39463475 87615.98099445 87615.16412311\n",
      " 87614.35651635 87613.18361101 87611.95068505 87610.58150108\n",
      " 87609.78623219 87609.2648995  87608.86539219 87608.48108087\n",
      " 87608.09731099 87607.93436235 87607.77128945 87607.69119093\n",
      " 87607.71737562 87607.73381428 87607.70565021 87607.52668009]\n"
     ]
    }
   ],
   "source": [
    "# Wake profile data processing\n",
    "yD = np.concatenate((np.arange(0.0,0.7,0.1), np.arange(0.8, 2.8, 0.2), np.arange(3, 4.5, 0.5)))\n",
    "uMean = np.empty(len(yD))\n",
    "std_u = np.empty(len(yD))\n",
    "std_u_bar = np.empty(len(yD))\n",
    "Pwake = np.empty(len(yD))\n",
    "\n",
    "for i in range(len(yD)):\n",
    "    fileName = './Data/Uwake_yD' + str(round(yD[i],1))\n",
    "    data = np.loadtxt(fileName)\n",
    "    uMean[i] = np.mean(data) * mmHg_to_Pa\n",
    "    std_u[i] = np.std(data) * mmHg_to_Pa\n",
    "    std_u_bar[i] = (np.std(data) * mmHg_to_Pa)/np.sqrt(len(data))\n",
    "    Pwake[i] = P_rm - np.mean(data) * mmHg_to_Pa\n",
    "    \n",
    "    \n",
    "uMean = convert_PtoU(uMean)\n",
    "std_u = convert_PtoU(std_u)\n",
    "std_u_bar = convert_PtoU(std_u_bar)\n",
    "print(Pwake)\n",
    "# print(uMean)\n",
    "# print(std_u)\n",
    "# print(std_u_bar)"
   ]
  },
  {
   "cell_type": "code",
   "execution_count": 378,
   "metadata": {},
   "outputs": [
    {
     "data": {
      "image/png": "[encoded data removed]",
      "text/plain": [
       "<Figure size 432x288 with 1 Axes>"
      ]
     },
     "metadata": {
      "needs_background": "light"
     },
     "output_type": "display_data"
    }
   ],
   "source": [
    "#fig 1a\n",
    "\n",
    "plt.figure(1)\n",
    "plt.errorbar(yD, np.divide(uMean, Uinf), yerr=np.divide(std_u_bar, Uinf), fmt='o')\n",
    "plt.errorbar([min(yD), max(yD)], [1,1], color='k')\n",
    "plt.title('Figure 1a, Justin Francis')\n",
    "plt.ylabel('Horizontal Velocity Profile, $u_{bar}/U_{inf}$')\n",
    "plt.xlabel('y/D')\n",
    "plt.grid()\n",
    "plt.savefig('Fig1a.png', dpi = 800)\n",
    "plt.show()"
   ]
  },
  {
   "cell_type": "code",
   "execution_count": 374,
   "metadata": {},
   "outputs": [
    {
     "data": {
      "image/png": "[encoded data removed]",
      "text/plain": [
       "<Figure size 432x288 with 1 Axes>"
      ]
     },
     "metadata": {
      "needs_background": "light"
     },
     "output_type": "display_data"
    }
   ],
   "source": [
    "#fig 1b\n",
    "plt.figure(2)\n",
    "plt.title('Figure 1b, Justin Francis')\n",
    "plt.ylabel('Horizontal Tubulence Intensity, $\\sigma_u/u_{bar}$')\n",
    "plt.xlabel('Vertical distance, y/D')\n",
    "plt.plot(yD, np.divide(std_u,uMean), 'o')\n",
    "plt.grid()\n",
    "plt.savefig('Fig1b.png', dpi = 800)\n",
    "plt.show()"
   ]
  },
  {
   "cell_type": "code",
   "execution_count": 375,
   "metadata": {},
   "outputs": [
    {
     "name": "stdout",
     "output_type": "stream",
     "text": [
      "[ 1.09201195  1.09385602  1.05500368  0.96309549  0.84858897  0.65887195\n",
      "  0.47667176  0.22021096 -0.0221746  -0.25625497 -0.4961054  -0.72956914\n",
      " -0.90519054 -1.0373043  -1.09941109 -1.08489052 -0.99921268 -0.91427286\n",
      " -0.85317189 -0.81426009 -0.81232371 -0.81641976 -0.81135864 -0.81855198]\n"
     ]
    },
    {
     "data": {
      "image/png": "[encoded data removed]",
      "text/plain": [
       "<Figure size 432x288 with 1 Axes>"
      ]
     },
     "metadata": {
      "needs_background": "light"
     },
     "output_type": "display_data"
    }
   ],
   "source": [
    "#fig 1c\n",
    "R_air = 287.058 #J/kgK\n",
    "T_rm = 16.5 + 273.15 #K\n",
    "P_rm = 657.3 * mmHg_to_Pa #Pa\n",
    "rho = P_rm/(R_air*T_rm) #kg/m3 of air\n",
    "\n",
    "Pinf_mean = min(Pinf) #np.mean(Pinf)\n",
    "# print('Pinf: ', Pinf_mean)\n",
    "# print('Pcyl: ', Pcyl)\n",
    "# print('Pwake: ', Pwake)\n",
    "#NOTE: I HAD NONSENSICAL CP VALUES (NEGATIVE FOR THE WHOLE SPECTRUM) SO I BACK CALCULATED THE SHIFT VALUE OF \n",
    "# TWO FROM THE MOMENTUM EQUATION\n",
    "Cp = (Pcyl - Pinf_mean)/(0.5*rho*Uinf**2) + 2 #THIS PLUS 2\n",
    "print(Cp)\n",
    "\n",
    "Pstd_bar = Pstd_bar/Uinf\n",
    "plt.figure(3)\n",
    "plt.title('Figure 1c, Justin Francis')\n",
    "plt.ylabel('$C_p$')\n",
    "plt.xlabel('Angular Position, $ \\Theta $[deg]')\n",
    "plt.errorbar(theta*180/np.pi, Cp, yerr=Pstd_bar, fmt='o')\n",
    "plt.plot([min(theta)*180/np.pi, max(theta)*180/np.pi], [0, 0], color='k')\n",
    "plt.savefig('Fig1c.png', dpi = 800)\n",
    "plt.grid()\n",
    "plt.show()"
   ]
  },
  {
   "cell_type": "code",
   "execution_count": 410,
   "metadata": {},
   "outputs": [
    {
     "name": "stdout",
     "output_type": "stream",
     "text": [
      "1.5001318804173625\n",
      "1.6099009268343094\n",
      "7099.305185212387\n"
     ]
    },
    {
     "data": {
      "image/png": "[encoded data removed]",
      "text/plain": [
       "<Figure size 432x288 with 1 Axes>"
      ]
     },
     "metadata": {
      "needs_background": "light"
     },
     "output_type": "display_data"
    }
   ],
   "source": [
    "from scipy import integrate\n",
    "#fig 1d\n",
    "#import textbook data\n",
    "textData = np.loadtxt('./Data/textbook.txt')\n",
    "\n",
    "# pressure around cylinder Cp\n",
    "d = 0.01905 #m\n",
    "mu_air = 1.8e-5\n",
    "Re_d = (rho*Uinf*d)/mu_air\n",
    "\n",
    "Cd = integrate.simps(theta, Cp*np.cos(theta))\n",
    "print(Cd)\n",
    "\n",
    "#mom flux Cp\n",
    "H = 0.3048 #m\n",
    "int1 = 2*integrate.simps(Pinf, np.linspace(0, H/2, len(Pinf))) \n",
    "int2 = -2*integrate.simps(Pwake, np.linspace(0, H/2, len(Pwake)))\n",
    "int3 = 2*rho*integrate.simps(uMean_free**2, np.linspace(0, H/2, len(uMean_free)))\n",
    "int4 = -2*rho*integrate.simps(uMean**2, np.linspace(0, H/2, len(uMean)))\n",
    "Fd = int1 + int2 + int3 + int4\n",
    "\n",
    "Cd_mom = Fd/(0.5*rho*Uinf**2*d*H)\n",
    "print(Cd_mom)\n",
    "print(Re_d)\n",
    "\n",
    "plt.figure(4)\n",
    "plt.loglog(textData[:,0], textData[:,1], 'k', label='Textbook Data')\n",
    "plt.title('Figure 1d, Justin Francis')\n",
    "plt.ylabel('$C_D$')\n",
    "plt.xlabel('$Re_D$')\n",
    "plt.grid()\n",
    "\n",
    "plt.plot(Re_d, Cd_mom, 'bo', label='Momentum $C_D$')\n",
    "plt.plot(Re_d, Cd, 'rs', label='Pressure $C_D$')\n",
    "plt.legend()\n",
    "plt.savefig('Fig1d.png', dpi=800)\n",
    "plt.show()"
   ]
  },
  {
   "cell_type": "code",
   "execution_count": 408,
   "metadata": {},
   "outputs": [
    {
     "name": "stdout",
     "output_type": "stream",
     "text": [
      "max uncertainty ubar:  8.672443278414663\n",
      "87.91063992543275\n",
      "max uncertainty Cp:  -70.38484166210283\n",
      "diff cd Press:  49.07402170499478\n",
      "diff cd mom:  59.98220479323357\n"
     ]
    }
   ],
   "source": [
    "#short answer\n",
    "maxIdx = np.argmax(std_u_bar)\n",
    "print('max uncertainty ubar: ', (2*std_u_bar[maxIdx])/uMean[maxIdx] * 100)\n",
    "# print(2* max(Pstd))\n",
    "# print(max(Pcyl))\n",
    "# print(max(Pinf))\n",
    "print(max(Pmean))\n",
    "print('max uncertainty Cp: ', ((2*np.std(Pcyl-np.mean(Pinf)))/(np.mean(Pcyl)-np.mean(Pinf)) * 100))\n",
    "Cd_text = 1.0063\n",
    "print('diff cd Press: ', (abs(Cd_text - Cd)/Cd_text) *100)\n",
    "print('diff cd mom: ', (abs(Cd_text - Cd_mom)/Cd_text) *100)"
   ]
  },
  {
   "cell_type": "code",
   "execution_count": null,
   "metadata": {},
   "outputs": [],
   "source": []
  }
 ],
 "metadata": {
  "kernelspec": {
   "display_name": "Python 3",
   "language": "python",
   "name": "python3"
  },
  "language_info": {
   "codemirror_mode": {
    "name": "ipython",
    "version": 3
   },
   "file_extension": ".py",
   "mimetype": "text/x-python",
   "name": "python",
   "nbconvert_exporter": "python",
   "pygments_lexer": "ipython3",
   "version": "3.7.4"
  }
 },
 "nbformat": 4,
 "nbformat_minor": 2
}
