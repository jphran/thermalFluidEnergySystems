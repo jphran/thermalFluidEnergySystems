{
 "cells": [
  {
   "cell_type": "code",
   "execution_count": 43,
   "metadata": {},
   "outputs": [],
   "source": [
    "import numpy as np\n",
    "import matplotlib.pyplot as plt\n",
    "%matplotlib inline\n",
    "\n",
    "# Pressure data processing\n",
    "theta = np.concatenate((np.arange(0,95,5), np.arange(100,200,20)))\n",
    "Pmean = np.empty(len(theta)) #\n",
    "Pstd = np.empty(len(theta))\n",
    "Pstd_bar = np.empty(len(theta))\n",
    "\n",
    "for i in range(len(theta)):\n",
    "    fileName = './Data/Pcyl_deg' + str(theta[i])\n",
    "    data = np.loadtxt(fileName)\n",
    "    Pmean[i] = np.mean(data)\n",
    "    Pstd[i] = np.mean(data)\n",
    "    \n"
   ]
  },
  {
   "cell_type": "code",
   "execution_count": 87,
   "metadata": {},
   "outputs": [
    {
     "name": "stdout",
     "output_type": "stream",
     "text": [
      "[6.32184861 6.32630158 6.33878479 6.37380529 6.41420404]\n",
      "[0.07448238 0.08742142 0.07775004 0.08070499 0.09268616]\n"
     ]
    }
   ],
   "source": [
    "# Freestream data processing\n",
    "yD_free = np.arange(0,5,1)\n",
    "uMean_free = np.empty(len(yD_free)) #m/s\n",
    "std_u_free = np.empty(len(yD_free))\n",
    "Uinf = 15 #m/s\n",
    "mmHg_to_Pa = 133.32 #conversion factor \n",
    "\n",
    "for i in range(len(yD_free)):\n",
    "    fileName = './Data/Uinf_yD' + str(yD_free[i])\n",
    "    data = np.loadtxt(fileName)\n",
    "    uMean_free[i] = np.mean(data) * mmHg_to_Pa\n",
    "    std_u_free[i] = (np.std(data) * mmHg_to_Pa)/np.sqrt(len(data))\n",
    "\n",
    "def convert_PtoU(x):\n",
    "    R_air = 287.058 #J/kgK\n",
    "    T_rm = 19 + 273.15 #K\n",
    "    P_rm = 665 * mmHg_to_Pa #Pa\n",
    "    rho = P_rm/(R_air*T_rm) #kg/m3 of air\n",
    "    \n",
    "    for i in range(len(x)):\n",
    "        x[i] = np.sqrt((2*x[i])/rho)\n",
    "        \n",
    "    return x\n",
    "\n",
    "uMean_free = convert_PtoU(uMean_free)\n",
    "std_u_free = convert_PtoU(std_u_free)\n",
    "print(uMean_free)\n",
    "print(std_u_free)\n",
    "Uinf = np.mean(uMean_free)"
   ]
  },
  {
   "cell_type": "code",
   "execution_count": 95,
   "metadata": {},
   "outputs": [
    {
     "name": "stdout",
     "output_type": "stream",
     "text": [
      "[5.22588822 5.29884507 5.37217907 5.51413753 5.65098135 5.84401924\n",
      " 6.04028824 6.25103063 6.37023704 6.44718601 6.50553754 6.56117987\n",
      " 6.61627686 6.63953275 6.66272512 6.67408728 6.67037505 6.66804347\n",
      " 6.67203763 6.69736308]\n",
      "[0.12177841 0.1218419  0.12557682 0.12302592 0.1030828  0.10035851\n",
      " 0.0970836  0.08655329 0.08622729 0.08134891 0.07704765 0.07446326\n",
      " 0.06735934 0.05763232 0.05492321 0.04613243 0.04559309 0.04518393\n",
      " 0.04341008 0.04428698]\n",
      "[0.22586579 0.22598355 0.23294959 0.22817959 0.19119053 0.18613772\n",
      " 0.18006364 0.16053278 0.15992815 0.15088008 0.14290241 0.13810907\n",
      " 0.12493324 0.10689226 0.1018676  0.08556309 0.08456276 0.08380388\n",
      " 0.08051388 0.08214029]\n"
     ]
    }
   ],
   "source": [
    "# Wake profile data processing\n",
    "yD = np.concatenate((np.arange(0.0,0.7,0.1), np.arange(0.8, 2.8, 0.2), np.arange(3, 4.5, 0.5)))\n",
    "uMean = np.empty(len(yD))\n",
    "std_u = np.empty(len(yD))\n",
    "std_u_bar = np.empty(len(yD))\n",
    "\n",
    "for i in range(len(yD)):\n",
    "    fileName = './Data/Uwake_yD' + str(round(yD[i],1))\n",
    "    data = np.loadtxt(fileName)\n",
    "    uMean[i] = np.mean(data) * mmHg_to_Pa\n",
    "    std_u[i] = np.std(data)\n",
    "    std_u_bar[i] = (np.std(data) * mmHg_to_Pa)/np.sqrt(len(data))\n",
    "    \n",
    "uMean = convert_PtoU(uMean)\n",
    "std_u = convert_PtoU(std_u)\n",
    "std_u_bar = convert_PtoU(std_u_bar)\n",
    "print(uMean)\n",
    "print(std_u)\n",
    "print(std_u_bar)"
   ]
  },
  {
   "cell_type": "code",
   "execution_count": 96,
   "metadata": {},
   "outputs": [
    {
     "data": {
      "image/png": "[encoded data removed]",
      "text/plain": [
       "<Figure size 432x288 with 1 Axes>"
      ]
     },
     "metadata": {
      "needs_background": "light"
     },
     "output_type": "display_data"
    }
   ],
   "source": [
    "#fig 1a\n",
    "\n",
    "plt.figure(1)\n",
    "plt.errorbar(yD, np.divide(uMean, Uinf), yerr=np.divide(std_u_bar, Uinf), fmt='o')\n",
    "plt.errorbar([min(yD), max(yD)], [1,1], color='k')\n",
    "plt.title('Figure 1a, Justin Francis')\n",
    "plt.show()"
   ]
  },
  {
   "cell_type": "code",
   "execution_count": 99,
   "metadata": {},
   "outputs": [
    {
     "data": {
      "image/png": "[encoded data removed]",
      "text/plain": [
       "<Figure size 432x288 with 1 Axes>"
      ]
     },
     "metadata": {
      "needs_background": "light"
     },
     "output_type": "display_data"
    }
   ],
   "source": [
    "#fig 1b\n",
    "plt.figure(2)\n",
    "plt.title('Figure 1b, Justin Francis')\n",
    "plt.plot(yD, np.divide(std_u,uMean), 'o')\n",
    "plt.grid()\n",
    "plt.show()"
   ]
  },
  {
   "cell_type": "code",
   "execution_count": null,
   "metadata": {},
   "outputs": [],
   "source": [
    "#fig 1c\n"
   ]
  }
 ],
 "metadata": {
  "kernelspec": {
   "display_name": "Python 3",
   "language": "python",
   "name": "python3"
  },
  "language_info": {
   "codemirror_mode": {
    "name": "ipython",
    "version": 3
   },
   "file_extension": ".py",
   "mimetype": "text/x-python",
   "name": "python",
   "nbconvert_exporter": "python",
   "pygments_lexer": "ipython3",
   "version": "3.7.4"
  }
 },
 "nbformat": 4,
 "nbformat_minor": 2
}
