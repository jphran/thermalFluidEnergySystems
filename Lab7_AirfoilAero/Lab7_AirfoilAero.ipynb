{
 "cells": [
  {
   "cell_type": "code",
   "execution_count": 26,
   "metadata": {},
   "outputs": [],
   "source": [
    "import numpy as np\n",
    "\n",
    "n = 17\n",
    "g = 9.8\n",
    "rho = 1.054\n",
    "Patm = 663.4\n",
    "Tatm = 19\n",
    "Poutput = 398.144\n",
    "Uinf = ((Poutput*2)/rho)**(0.5)\n",
    "c = 4 * 0.0254\n",
    "s = 12 * 0.0254\n",
    "Ap = s*c\n",
    "x = np.linspace(1,n,n)\n",
    "vu = 1.5111e-5\n",
    "inH20_to_Pa = 248.84\n",
    "Pinf = Poutput\n",
    "\n",
    "liftMean = np.zeros(16)\n",
    "liftStd = np.zeros(16)\n",
    "dragMean = np.zeros(16)\n",
    "dragStd = np.zeros(16)\n",
    "g = 9.8\n",
    "\n",
    "drag = []\n",
    "lift = []\n",
    "\n",
    "for i in range(16):\n",
    "    filepath = './Data/angle_' + str(i) + '.txt'\n",
    "    \n",
    "    with open(filepath, 'r') as f:\n",
    "        for line in f:\n",
    "            row = line.strip().split('\\t')\n",
    "            lift.append(float(row[0]))\n",
    "            drag.append(float(row[1])) \n",
    "    nplift = np.array(lift)\n",
    "    npdrag = np.array(drag)\n",
    "    \n",
    "    liftMean[i] = np.mean(nplift) * g\n",
    "    liftStd[i] = np.std(nplift) * g\n",
    "    dragMean[i] = np.mean(npdrag) * g\n",
    "    dragStd[i] = np.std(npdrag) * g\n",
    "\n",
    "\n",
    "# %% b calc uncertainty\n",
    "C_L = liftMean/(0.5*rho*Uinf**2*Ap)\n",
    "C_Lerr = (liftStd/(0.5*rho*Uinf**2*Ap))\n",
    "\n",
    "C_D = dragMean/(0.5*rho*Uinf**2*Ap)\n",
    "C_Derr = (dragStd/(0.5*rho*Uinf**2*Ap))"
   ]
  },
  {
   "cell_type": "code",
   "execution_count": 27,
   "metadata": {},
   "outputs": [
    {
     "name": "stdout",
     "output_type": "stream",
     "text": [
      "27.082744207523277\n",
      "87.97297804948559\n"
     ]
    }
   ],
   "source": [
    "liftUncert = np.mean((liftStd/liftMean)*100)\n",
    "dragUncert = np.mean((dragStd/-dragMean)*100)\n",
    "\n",
    "print(liftUncert)\n",
    "print(dragUncert)"
   ]
  },
  {
   "cell_type": "code",
   "execution_count": null,
   "metadata": {},
   "outputs": [],
   "source": [
    "with open(filepath, 'r') as f:\n",
    "    for line in f:\n",
    "        row = line.strip().split('\\t')\n",
    "        lift.append(float(row[0]))\n",
    "        drag.append(float(row[1])) "
   ]
  }
 ],
 "metadata": {
  "kernelspec": {
   "display_name": "Python 3",
   "language": "python",
   "name": "python3"
  },
  "language_info": {
   "codemirror_mode": {
    "name": "ipython",
    "version": 3
   },
   "file_extension": ".py",
   "mimetype": "text/x-python",
   "name": "python",
   "nbconvert_exporter": "python",
   "pygments_lexer": "ipython3",
   "version": "3.7.4"
  }
 },
 "nbformat": 4,
 "nbformat_minor": 2
}
