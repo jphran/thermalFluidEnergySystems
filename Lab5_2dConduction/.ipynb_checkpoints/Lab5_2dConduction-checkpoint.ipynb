{
 "cells": [
  {
   "cell_type": "code",
   "execution_count": 57,
   "metadata": {},
   "outputs": [
    {
     "name": "stdout",
     "output_type": "stream",
     "text": [
      "              Statistic [units]                 Plate Boundary                               \n",
      "\n",
      "                     Mean [°C]                           35.3                               \n",
      "\n",
      "                Std. Dev. [°C]                            4.4                               \n",
      "\n",
      "                   Center [°C]            (178.0, 135.0) 34.3                               \n",
      "\n",
      "                  Maximum [°C]                (269, 213) 45.1                               \n",
      "\n",
      "                  Minimum [°C]                (168,  43) 23.4                               \n",
      "\n",
      "               Number of Pixels                          34225                               \n",
      "\n",
      "       Single Pixel Area [cm²]                         0.0048                               \n",
      "\n",
      "                    Area [cm²]                          163.6                               \n",
      "\n",
      "                    Length [cm]                            N/A                               \n",
      "\n",
      "                     Emissivity                           0.95                               \n",
      "\n",
      "                   Distance [m]                          0.517                               \n",
      "\n",
      "                                                                                             \n",
      "\n"
     ]
    }
   ],
   "source": [
    "import matplotlib.pyplot as plt\n",
    "import numpy as np\n",
    "import pandas as pd\n",
    "from scipy.sparse import diags\n",
    "from math import floor\n",
    "\n",
    "data = pd.read_csv('./heat_values.csv')\n",
    "data = data.to_numpy()\n",
    "data = np.flip(data)\n",
    "\n",
    "\n",
    "with open('./heat_stats.txt', 'r') as f:\n",
    "    for line in f:\n",
    "        print(line)\n",
    "\n",
    "shape = data.shape\n",
    "pixelDim = np.sqrt(0.0048) #cm\n",
    "lenX = pixelDim*shape[1] #cm\n",
    "lenY = pixelDim*shape[0] #cm\n"
   ]
  },
  {
   "cell_type": "code",
   "execution_count": 2,
   "metadata": {},
   "outputs": [
    {
     "data": {
      "image/png": "[encoded data removed]",
      "text/plain": [
       "<Figure size 432x288 with 2 Axes>"
      ]
     },
     "metadata": {
      "needs_background": "light"
     },
     "output_type": "display_data"
    }
   ],
   "source": [
    "# fig 1a\n",
    "X = np.linspace(0, lenX, shape[1])\n",
    "Y = np.linspace(0, lenY, shape[0])\n",
    "\n",
    "plt.figure(1)\n",
    "plt.title('Figure 1a.1, Justin Francis')\n",
    "plt.ylabel('Height, y[cm]')\n",
    "plt.xlabel('Length, x[cm]')\n",
    "plt.contourf(X, Y, data, 20)\n",
    "cbar = plt.colorbar()\n",
    "cbar.set_label('Temp, T[C]')\n",
    "plt.savefig('Fig1a1.png', dpi=800)\n",
    "plt.show()"
   ]
  },
  {
   "cell_type": "code",
   "execution_count": 3,
   "metadata": {},
   "outputs": [
    {
     "name": "stdout",
     "output_type": "stream",
     "text": [
      "-270.2111731843586\n",
      "-610.3734636871537\n",
      "1068.9542897727283\n",
      "-128.32248579545487\n"
     ]
    }
   ],
   "source": [
    "#finding the boundary flux\n",
    "qL = np.zeros(shape[0])\n",
    "qR = np.zeros(shape[0])\n",
    "k = 50 #W/mK NEED TO USE ACTUAL VAL\n",
    "t = 0.318 #cm\n",
    "t = t*1e-2 #m\n",
    "pixelDim = pixelDim * 1e-2 #m\n",
    "\n",
    "for row in range(shape[0]):\n",
    "    qL[row] = -k*((-data[row,2] + (4*data[row,1]) - (3*data[row,0]))/(2*pixelDim))\n",
    "    qR[row] = -k*(((3*data[row,shape[1]-1]) - (4*data[row,shape[1]-2]) + data[row,shape[1]-3])/(2*pixelDim))\n",
    "\n",
    "qT = np.zeros(shape[1])\n",
    "qB = np.zeros(shape[1])\n",
    "for col in range(shape[1]):\n",
    "    qB[col] = -k*((-data[2,col] + (4*data[1,col]) - (3*data[0,col]))/(2*pixelDim))\n",
    "    qT[col] = -k*(((3*data[shape[0]-1, col]) - (4*data[shape[0]-2, col]) + data[shape[0]-3,col])/(2*pixelDim))\n",
    "    \n",
    "QL = t*np.trapz(qL, Y)\n",
    "QR = t*np.trapz(qR, Y)\n",
    "QT = t*np.trapz(qT, X)\n",
    "QB = t*np.trapz(qB, X)\n",
    "\n",
    "print(QL)\n",
    "print(QR)\n",
    "print(QT)\n",
    "print(QB)"
   ]
  },
  {
   "cell_type": "code",
   "execution_count": 19,
   "metadata": {},
   "outputs": [],
   "source": [
    "#numerical analysis\n",
    "# bound cond\n",
    "TL = data[:,0] #at every point y\n",
    "TR = data[:,-1] #at every point y\n",
    "TT = data[0,:] #at every point x\n",
    "dTdyB = np.zeros(len(TT)) #everywhere\n",
    "\n",
    "TB = np.zeros(len(TT))\n",
    "TB[0] = TL[-1]\n",
    "TB[-1] = TR[-1]\n",
    "for i in range(1,len(TT)-1):\n",
    "    TB[i] = 0.25 * (data[-1,i-1] + data[-1,i+1] + 2*data[-2,i])\n"
   ]
  },
  {
   "cell_type": "code",
   "execution_count": 108,
   "metadata": {},
   "outputs": [
    {
     "name": "stdout",
     "output_type": "stream",
     "text": [
      "177\n",
      "180\n",
      "numElem:  31325\n"
     ]
    }
   ],
   "source": [
    "# create mesh and A, C matrices\n",
    "# sizeRed = 5\n",
    "# numElem = floor(len(X)/sizeRed)\n",
    "# numCol = floor(np.sqrt(floor(len(X)/sizeRed)))\n",
    "\n",
    "numElem = 400 ####\n",
    "# print(shape[1])\n",
    "# print(shape[0])\n",
    "# numElem = (shape[1]-2) * (shape[0]-1)\n",
    "print(\"numElem: \", numElem)\n",
    "\n",
    "# elemOffSet = floor((len(X)*len(Y))/numElem) ###\n",
    "numCol = floor(np.sqrt(numElem))\n",
    "# numCol = shape[1]-2\n",
    "numRow = numCol #####\n",
    "# numRow = shape[0]-1\n",
    "colOffSet = floor(shape[1]/numCol) ####\n",
    "rowOffSet = floor(shape[0]/numRow) ####\n",
    "mainDiag = np.ones(numElem) * 4 \n",
    "superDiag = np.ones(numElem-1) * -1\n",
    "subDiag = np.ones(numElem-1) * -1\n",
    "superDiag2 = np.ones(numElem-numCol) * -1\n",
    "subDiag2 = np.ones(numElem-numCol) * -1\n",
    "C = np.zeros(numElem)\n",
    "# print('Eoffset: ', elemOffSet)\n",
    "# print('rowOffSet: ', rowOffSet)\n",
    "# print(\"numCol: \", numCol)\n",
    "\n",
    "# for i in range(1,floor(numElem/numCol)):\n",
    "for i in range(1,numCol):\n",
    "    superDiag[(i*numCol)-1] = 0\n",
    "    subDiag[(i*numCol)-1] = 0\n",
    "\n",
    "\n",
    "# for i in range(floor(numElem/numCol)):\n",
    "for i in range(numCol):\n",
    "    superDiag2[i] = -2\n",
    "#     C[i*numCol] = TL[i*rowOffSet] ###\n",
    "    C[i*numCol] = TL[i]\n",
    "#     C[(i*numCol)+(numCol-1)] = TR[i*rowOffSet] ###\n",
    "    C[(i*numCol)+(numCol-1)] = TR[i] ###\n",
    "#     C[-(i+1)] = TT[i*colOffSet] ### \n",
    "    if i != 0:\n",
    "        C[-i] = TT[i]\n",
    "    \n",
    "C[numElem - numCol] = TT[0] + TR[0]\n",
    "C[-1] = TT[-1] + TL[0]\n",
    "    \n",
    "A = diags([mainDiag, superDiag, subDiag, superDiag2, subDiag2], [0,1,-1,numCol, -numCol])\n",
    "\n",
    "# print(\"A: \", A.todense())\n",
    "# print(\"C: \", C)\n",
    "# print('super: ', superDiag)\n",
    "# print('sub: ', subDiag)\n",
    "# print('super2: ', superDiag2)\n",
    "# print(TL[-1])"
   ]
  },
  {
   "cell_type": "code",
   "execution_count": null,
   "metadata": {},
   "outputs": [],
   "source": [
    "# solve for T\n",
    "T = np.linalg.solve(A.toarray(),C)\n",
    "\n",
    "# print(T)"
   ]
  },
  {
   "cell_type": "code",
   "execution_count": null,
   "metadata": {},
   "outputs": [],
   "source": [
    "#plot\n",
    "numericalData = np.zeros((numCol, numRow))\n",
    "for i in range(numCol):\n",
    "    for j in range(numRow):\n",
    "        numericalData[i,j] = T[i+j]\n",
    "        \n",
    "numX = np.linspace(0,lenX, numCol)\n",
    "numY = np.linspace(0, lenY, numRow)\n",
    "# print(numericalData)\n",
    "plt.figure(2)\n",
    "plt.title('Figure 1b, Justin Francis')\n",
    "plt.ylabel('Height, y[cm]')\n",
    "plt.xlabel('Length, x[cm]')\n",
    "plt.contourf(numX, numY, numericalData, 20)\n",
    "cbar = plt.colorbar()\n",
    "cbar.set_label('Temp, T[C]')\n",
    "plt.savefig('Fig1b.png', dpi=800)\n",
    "plt.show()"
   ]
  },
  {
   "cell_type": "code",
   "execution_count": null,
   "metadata": {},
   "outputs": [],
   "source": []
  }
 ],
 "metadata": {
  "kernelspec": {
   "display_name": "Python 3",
   "language": "python",
   "name": "python3"
  },
  "language_info": {
   "codemirror_mode": {
    "name": "ipython",
    "version": 3
   },
   "file_extension": ".py",
   "mimetype": "text/x-python",
   "name": "python",
   "nbconvert_exporter": "python",
   "pygments_lexer": "ipython3",
   "version": "3.7.4"
  }
 },
 "nbformat": 4,
 "nbformat_minor": 2
}
