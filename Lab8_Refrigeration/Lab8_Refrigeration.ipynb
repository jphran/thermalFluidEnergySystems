{
 "cells": [
  {
   "cell_type": "code",
   "execution_count": 19,
   "metadata": {},
   "outputs": [
    {
     "name": "stdout",
     "output_type": "stream",
     "text": [
      "[290.45 290.25 290.5  290.75]\n"
     ]
    }
   ],
   "source": [
    "import matplotlib.pyplot as plt\n",
    "import numpy as np\n",
    "import pandas\n",
    "\n",
    "# cant use pandas cause they gave us the shittiest data form, but i guess its human readable so thats nice\n",
    "# dataFrame = pandas.read_excel('RefrigerationLab_SampleData-3.xlsx')\n",
    "# print(dataFrame)\n",
    "\n",
    "#data entry (don't we have interns for this?)\n",
    "Tamb = 23.5 #C\n",
    "Pamb = 651.4 * 0.133322 #kPa\n",
    "Wfan = 130 #W\n",
    "flowRate = np.array([.2, .15, .1, .07]) #gpm\n",
    "totalPower = np.array([840, 680, 570, 515]) #W\n",
    "T1 = np.array([62, 63, 69, 70]) #F\n",
    "T2 = np.array([120, 140, 135, 132]) #F\n",
    "T3 = np.array([98, 82, 72, 75]) #F\n",
    "T4 = np.array([39, 24, 2, -5]) #F\n",
    "T5 = np.array([62, 68, 70, 70]) #F\n",
    "P1 = np.array([31, 20, 10, 5]) #psig\n",
    "P2 = np.array([147, 135, 136, 108]) #psig\n",
    "P3 = np.array([145, 135, 114, 105]) #psig\n",
    "P4 = np.array([40, 27, 13, 8]) #psig\n",
    "P5 = np.array([35, 23, 12, 9]) #psig\n",
    "Tc1 = np.array([35.3, 32.8, 29.5, 28.2]) #C\n",
    "Tc2 = np.array([34.3, 29.7, 25.7, 25]) #C\n",
    "Te1 = np.array([15.7, 11.7, 11.7, 12.2]) #C\n",
    "Te2 = np.array([18.9, 22.5, 23, 23]) #C\n",
    "Te_avg = np.empty(len(flowRate),)\n",
    "Tc_avg = np.empty(len(flowRate),)\n",
    "\n",
    "for i in range(len(flowRate)):\n",
    "    T1[i] = (T1[i] - 32) * 5/9 + 273.15 #K\n",
    "    T2[i] = (T1[i] - 32) * 5/9 + 273.15 #K\n",
    "    T3[i] = (T1[i] - 32) * 5/9 + 273.15 #K\n",
    "    T4[i] = (T1[i] - 32) * 5/9 + 273.15 #K\n",
    "    T5[i] = (T1[i] - 32) * 5/9 + 273.15 #K\n",
    "    Tc1[i] = Tc1[i] + 273.15 #K\n",
    "    Tc2[i] = Tc2[i] + 273.15 #K\n",
    "    Te1[i] = Te1[i] + 273.15 #K\n",
    "    Te2[i] = Te2[i] + 273.15 #K\n",
    "    P1[i] = (P1[i] + Pamb) * 6.89476 #kPa\n",
    "    P2[i] = (P2[i] + Pamb) * 6.89476 #kPa\n",
    "    P3[i] = (P3[i] + Pamb) * 6.89476 #kPa\n",
    "    P4[i] = (P4[i] + Pamb) * 6.89476 #kPa\n",
    "    P5[i] = (P5[i] + Pamb) * 6.89476 #kPa\n",
    "    flowRate[i] = flowRate[i] * 0.000063090196 #m3/s\n",
    "    #crunch\n",
    "    Te_avg[i] = 0.5 * (Te1[i] + Te2[i]) #K\n",
    "    Tc_avg[i] = 0.5 * (Tc1[i] + Tc2[i]) #K\n",
    "\n",
    "\n"
   ]
  },
  {
   "cell_type": "code",
   "execution_count": 13,
   "metadata": {},
   "outputs": [
    {
     "data": {
      "image/png": "[encoded data removed]",
      "text/plain": [
       "<Figure size 432x288 with 1 Axes>"
      ]
     },
     "metadata": {
      "needs_background": "light"
     },
     "output_type": "display_data"
    }
   ],
   "source": [
    "#fig 1a\n",
    "\n",
    "\n",
    "plt.figure(1)\n",
    "plt.show()"
   ]
  },
  {
   "cell_type": "code",
   "execution_count": null,
   "metadata": {},
   "outputs": [],
   "source": []
  }
 ],
 "metadata": {
  "kernelspec": {
   "display_name": "Python 3",
   "language": "python",
   "name": "python3"
  },
  "language_info": {
   "codemirror_mode": {
    "name": "ipython",
    "version": 3
   },
   "file_extension": ".py",
   "mimetype": "text/x-python",
   "name": "python",
   "nbconvert_exporter": "python",
   "pygments_lexer": "ipython3",
   "version": "3.7.4"
  }
 },
 "nbformat": 4,
 "nbformat_minor": 2
}
